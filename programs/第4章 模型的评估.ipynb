{
 "cells": [
  {
   "cell_type": "code",
   "execution_count": 1,
   "metadata": {
    "ExecuteTime": {
     "end_time": "2020-02-13T03:52:32.225343Z",
     "start_time": "2020-02-13T03:52:31.282910Z"
    }
   },
   "outputs": [],
   "source": [
    "## 加载包\n",
    "import numpy as np\n",
    "import pandas as pd\n",
    "import matplotlib.pyplot as plt\n",
    "import seaborn as sns\n",
    "## 图像在jupyter notebook中显示\n",
    "%matplotlib inline\n",
    "## 显示的图片格式（mac中的高清格式），还可以设置为\"bmp\"等格式\n",
    "%config InlineBackend.figure_format = \"retina\"\n",
    "## 输出图显示中文\n",
    "from matplotlib.font_manager import FontProperties\n",
    "fonts = FontProperties(fname = \"/Library/Fonts/华文细黑.ttf\",size=14)\n",
    "\n",
    "from sklearn import metrics\n",
    "from sklearn.model_selection import train_test_split\n",
    "from sklearn.datasets import load_iris\n",
    "## 忽略提醒\n",
    "import warnings\n",
    "warnings.filterwarnings(\"ignore\")"
   ]
  },
  {
   "cell_type": "code",
   "execution_count": null,
   "metadata": {
    "collapsed": true
   },
   "outputs": [],
   "source": []
  },
  {
   "cell_type": "markdown",
   "metadata": {},
   "source": [
    "## 模型训练技巧\n",
    "\n",
    "**K折交叉验证**\n",
    "\n",
    "**参数网格搜索**\n",
    "\n",
    "**训练集、验证集、测试集**\n",
    "\n"
   ]
  },
  {
   "cell_type": "code",
   "execution_count": 2,
   "metadata": {
    "ExecuteTime": {
     "end_time": "2020-02-13T03:56:41.001606Z",
     "start_time": "2020-02-13T03:56:40.992173Z"
    },
    "scrolled": true
   },
   "outputs": [
    {
     "data": {
      "text/plain": [
       "(150, 4)"
      ]
     },
     "execution_count": 2,
     "metadata": {},
     "output_type": "execute_result"
    }
   ],
   "source": [
    "## 读取鸢尾花数据集\n",
    "Iris = load_iris()\n",
    "Iris.data.shape"
   ]
  },
  {
   "cell_type": "code",
   "execution_count": 3,
   "metadata": {
    "ExecuteTime": {
     "end_time": "2020-02-13T03:56:43.440089Z",
     "start_time": "2020-02-13T03:56:43.435752Z"
    }
   },
   "outputs": [
    {
     "data": {
      "text/plain": [
       "array([0, 0, 0, 0, 0, 0, 0, 0, 0, 0, 0, 0, 0, 0, 0, 0, 0, 0, 0, 0, 0, 0,\n",
       "       0, 0, 0, 0, 0, 0, 0, 0, 0, 0, 0, 0, 0, 0, 0, 0, 0, 0, 0, 0, 0, 0,\n",
       "       0, 0, 0, 0, 0, 0, 1, 1, 1, 1, 1, 1, 1, 1, 1, 1, 1, 1, 1, 1, 1, 1,\n",
       "       1, 1, 1, 1, 1, 1, 1, 1, 1, 1, 1, 1, 1, 1, 1, 1, 1, 1, 1, 1, 1, 1,\n",
       "       1, 1, 1, 1, 1, 1, 1, 1, 1, 1, 1, 1, 2, 2, 2, 2, 2, 2, 2, 2, 2, 2,\n",
       "       2, 2, 2, 2, 2, 2, 2, 2, 2, 2, 2, 2, 2, 2, 2, 2, 2, 2, 2, 2, 2, 2,\n",
       "       2, 2, 2, 2, 2, 2, 2, 2, 2, 2, 2, 2, 2, 2, 2, 2, 2, 2])"
      ]
     },
     "execution_count": 3,
     "metadata": {},
     "output_type": "execute_result"
    }
   ],
   "source": [
    "Iris.target"
   ]
  },
  {
   "cell_type": "markdown",
   "metadata": {
    "collapsed": true
   },
   "source": [
    "####  k-折交叉验证\n",
    "1:k-fold\n",
    "\n",
    "将样例划分为K份，若K=样例数，即为留一交叉验证，K-1份作为训练。\n",
    "\n",
    "2:Stratified k-fold  分层交叉验证\n",
    "\n",
    "StratifiedKFold()这个函数较常用，比KFold的优势在于将k折数据按照百分比划分数据集，每个类别百分比在训练集和测试集中都是一样，这样能保证不会有某个类别的数据在训练集中而测试集中没有这种情况，同样不会在训练集中没有全在测试集中，这样会导致结果糟糕透顶。"
   ]
  },
  {
   "cell_type": "code",
   "execution_count": 4,
   "metadata": {
    "ExecuteTime": {
     "end_time": "2020-02-13T03:58:27.159075Z",
     "start_time": "2020-02-13T03:58:27.084467Z"
    }
   },
   "outputs": [
    {
     "name": "stdout",
     "output_type": "stream",
     "text": [
      "Fold: 1 Acc: 1.0\n",
      "Fold: 2 Acc: 1.0\n",
      "Fold: 3 Acc: 1.0\n",
      "Fold: 4 Acc: 1.0\n",
      "Fold: 5 Acc: 0.9333\n",
      "Fold: 6 Acc: 0.9333\n",
      "Fold: 7 Acc: 1.0\n",
      "Fold: 8 Acc: 1.0\n",
      "Fold: 9 Acc: 0.8\n",
      "Fold: 10 Acc: 1.0\n",
      "平均Acc: 0.9666666666666668\n"
     ]
    }
   ],
   "source": [
    "## 1:使用k－fold对Iris数据集分类\n",
    "from sklearn.model_selection import KFold\n",
    "from sklearn.discriminant_analysis import LinearDiscriminantAnalysis\n",
    "Irkf = KFold(n_splits=10,random_state=2)\n",
    "## 使用 线性判别分析算法进行数据分类\n",
    "LDA_clf = LinearDiscriminantAnalysis(n_components=2)\n",
    "scores = []\n",
    "for ii,(train_index, test_index) in enumerate(Irkf.split(Iris.data)):\n",
    "    ## 训练模型\n",
    "    LDA_clf.fit(Iris.data[train_index],Iris.target[train_index])\n",
    "    ## 测试模型效果\n",
    "    prey = LDA_clf.predict(Iris.data[test_index])\n",
    "    acc = metrics.accuracy_score(Iris.target[test_index],prey)\n",
    "    print(\"Fold:\",ii+1,\"Acc:\",np.round(acc,4))\n",
    "    scores.append(acc)\n",
    "## 计算准确率的平均值\n",
    "print(\"平均Acc:\",np.mean(scores))"
   ]
  },
  {
   "cell_type": "code",
   "execution_count": 5,
   "metadata": {
    "ExecuteTime": {
     "end_time": "2020-02-13T03:59:51.008543Z",
     "start_time": "2020-02-13T03:59:49.998902Z"
    }
   },
   "outputs": [
    {
     "name": "stdout",
     "output_type": "stream",
     "text": [
      "10折交叉验证的Acc:\n",
      " [1.         1.         1.         1.         0.93333333 1.\n",
      " 0.86666667 1.         1.         1.        ]\n",
      "平均Acc: 0.9800000000000001\n"
     ]
    }
   ],
   "source": [
    "## 同时sklearn还提供了cross_val_score函数直接计算平均得分\n",
    "from sklearn.model_selection import cross_val_score\n",
    "scores = cross_val_score(estimator=LDA_clf,cv=10,\n",
    "                         X=Iris.data,y = Iris.target,\n",
    "                         n_jobs = 4)\n",
    "print(\"10折交叉验证的Acc:\\n\",scores)\n",
    "print(\"平均Acc:\",np.mean(scores))"
   ]
  },
  {
   "cell_type": "code",
   "execution_count": 6,
   "metadata": {
    "ExecuteTime": {
     "end_time": "2020-02-13T04:00:28.239284Z",
     "start_time": "2020-02-13T04:00:28.209766Z"
    },
    "scrolled": true
   },
   "outputs": [
    {
     "name": "stdout",
     "output_type": "stream",
     "text": [
      "每个测试集的类别比例:\n",
      " 2    17\n",
      "1    17\n",
      "0    17\n",
      "dtype: int64\n",
      "每个测试集的类别比例:\n",
      " 2    17\n",
      "1    17\n",
      "0    17\n",
      "dtype: int64\n",
      "每个测试集的类别比例:\n",
      " 2    16\n",
      "1    16\n",
      "0    16\n",
      "dtype: int64\n",
      "平均Acc: 0.9803921568627452\n"
     ]
    }
   ],
   "source": [
    "## 2:Stratified k-fold 分层交叉验证\n",
    "from sklearn.model_selection import StratifiedKFold\n",
    "Skf_ir = StratifiedKFold(n_splits=3,random_state=2)\n",
    "scores = []\n",
    "## 使用Skf_ir.split()时需要同时提供X和Y\n",
    "for ii,(train_index, test_index) in enumerate(Skf_ir.split(Iris.data,Iris.target)):\n",
    "    ## 训练模型\n",
    "    LDA_clf.fit(Iris.data[train_index],Iris.target[train_index])\n",
    "    ## 测试模型效果\n",
    "    prey = LDA_clf.predict(Iris.data[test_index])\n",
    "    acc = metrics.accuracy_score(Iris.target[test_index],prey)\n",
    "    print(\"每个测试集的类别比例:\\n\",pd.value_counts(Iris.target[test_index]))\n",
    "    scores.append(acc)\n",
    "## 计算准确率的平均值\n",
    "print(\"平均Acc:\",np.mean(scores))"
   ]
  },
  {
   "cell_type": "markdown",
   "metadata": {},
   "source": [
    "### 参数网格搜索"
   ]
  },
  {
   "cell_type": "code",
   "execution_count": 7,
   "metadata": {
    "ExecuteTime": {
     "end_time": "2020-02-13T04:01:13.237027Z",
     "start_time": "2020-02-13T04:01:13.233332Z"
    }
   },
   "outputs": [],
   "source": [
    "## 切分数据集\n",
    "train_x,test_x,train_y,test_y = train_test_split(Iris.data,Iris.target,\n",
    "                                                 test_size = 0.25,random_state = 2)"
   ]
  },
  {
   "cell_type": "code",
   "execution_count": 8,
   "metadata": {
    "ExecuteTime": {
     "end_time": "2020-02-13T04:01:39.068458Z",
     "start_time": "2020-02-13T04:01:38.786770Z"
    }
   },
   "outputs": [
    {
     "data": {
      "text/plain": [
       "GridSearchCV(cv=10, error_score='raise-deprecating',\n",
       "             estimator=Pipeline(memory=None,\n",
       "                                steps=[('scale',\n",
       "                                        StandardScaler(copy=True,\n",
       "                                                       with_mean=True,\n",
       "                                                       with_std=True)),\n",
       "                                       ('KNN',\n",
       "                                        KNeighborsClassifier(algorithm='auto',\n",
       "                                                             leaf_size=30,\n",
       "                                                             metric='minkowski',\n",
       "                                                             metric_params=None,\n",
       "                                                             n_jobs=None,\n",
       "                                                             n_neighbors=5, p=2,\n",
       "                                                             weights='uniform'))],\n",
       "                                verbose=False),\n",
       "             iid='warn', n_jobs=4,\n",
       "             param_grid=[{'KNN__n_neighbors': array([1, 2, 3, 4, 5, 6, 7, 8, 9]),\n",
       "                          'scale__with_mean': [True, False]}],\n",
       "             pre_dispatch='2*n_jobs', refit=True, return_train_score=False,\n",
       "             scoring=None, verbose=0)"
      ]
     },
     "execution_count": 8,
     "metadata": {},
     "output_type": "execute_result"
    }
   ],
   "source": [
    "from sklearn.pipeline import Pipeline\n",
    "from sklearn.preprocessing import StandardScaler\n",
    "from sklearn.model_selection import GridSearchCV\n",
    "from sklearn.neighbors import KNeighborsClassifier\n",
    "## 定义模型流程\n",
    "pipe_KNN = Pipeline([(\"scale\",StandardScaler()),\n",
    "                    (\"KNN\",KNeighborsClassifier())])\n",
    "## 定义需要搜索的参数\n",
    "n_neighbors = np.arange(1,10)\n",
    "para_grid = [{\"scale__with_mean\":[True,False],\n",
    "#               \"scale__with_std\":[True,False],\n",
    "              \"KNN__n_neighbors\" : n_neighbors}]\n",
    "\n",
    "## 应用到数据上\n",
    "gs_KNN_ir = GridSearchCV(estimator=pipe_KNN,param_grid=para_grid,\n",
    "                         cv=10,n_jobs=4)\n",
    "gs_KNN_ir.fit(train_x,train_y)"
   ]
  },
  {
   "cell_type": "code",
   "execution_count": 9,
   "metadata": {
    "ExecuteTime": {
     "end_time": "2020-02-13T04:01:47.901471Z",
     "start_time": "2020-02-13T04:01:47.897429Z"
    }
   },
   "outputs": [
    {
     "data": {
      "text/plain": [
       "{'KNN__n_neighbors': 9, 'scale__with_mean': True}"
      ]
     },
     "execution_count": 9,
     "metadata": {},
     "output_type": "execute_result"
    }
   ],
   "source": [
    "## 输出最优的参数\n",
    "gs_KNN_ir.best_params_"
   ]
  },
  {
   "cell_type": "code",
   "execution_count": 18,
   "metadata": {
    "ExecuteTime": {
     "end_time": "2020-02-13T04:15:33.858811Z",
     "start_time": "2020-02-13T04:15:33.854029Z"
    }
   },
   "outputs": [
    {
     "data": {
      "text/plain": [
       "Index(['mean_fit_time', 'std_fit_time', 'mean_score_time', 'std_score_time',\n",
       "       'param_KNN__n_neighbors', 'param_scale__with_mean', 'params',\n",
       "       'split0_test_score', 'split1_test_score', 'split2_test_score',\n",
       "       'split3_test_score', 'split4_test_score', 'split5_test_score',\n",
       "       'split6_test_score', 'split7_test_score', 'split8_test_score',\n",
       "       'split9_test_score', 'mean_test_score', 'std_test_score',\n",
       "       'rank_test_score'],\n",
       "      dtype='object')"
      ]
     },
     "execution_count": 18,
     "metadata": {},
     "output_type": "execute_result"
    }
   ],
   "source": [
    "results.columns"
   ]
  },
  {
   "cell_type": "code",
   "execution_count": 21,
   "metadata": {
    "ExecuteTime": {
     "end_time": "2020-02-13T04:17:06.513296Z",
     "start_time": "2020-02-13T04:17:06.496610Z"
    }
   },
   "outputs": [
    {
     "data": {
      "text/html": [
       "<div>\n",
       "<style scoped>\n",
       "    .dataframe tbody tr th:only-of-type {\n",
       "        vertical-align: middle;\n",
       "    }\n",
       "\n",
       "    .dataframe tbody tr th {\n",
       "        vertical-align: top;\n",
       "    }\n",
       "\n",
       "    .dataframe thead th {\n",
       "        text-align: right;\n",
       "    }\n",
       "</style>\n",
       "<table border=\"1\" class=\"dataframe\">\n",
       "  <thead>\n",
       "    <tr style=\"text-align: right;\">\n",
       "      <th></th>\n",
       "      <th>mean_test_score</th>\n",
       "      <th>std_test_score</th>\n",
       "      <th>params</th>\n",
       "    </tr>\n",
       "  </thead>\n",
       "  <tbody>\n",
       "    <tr>\n",
       "      <th>0</th>\n",
       "      <td>0.928571</td>\n",
       "      <td>0.078127</td>\n",
       "      <td>{'KNN__n_neighbors': 1, 'scale__with_mean': True}</td>\n",
       "    </tr>\n",
       "    <tr>\n",
       "      <th>1</th>\n",
       "      <td>0.928571</td>\n",
       "      <td>0.078127</td>\n",
       "      <td>{'KNN__n_neighbors': 1, 'scale__with_mean': Fa...</td>\n",
       "    </tr>\n",
       "    <tr>\n",
       "      <th>2</th>\n",
       "      <td>0.928571</td>\n",
       "      <td>0.066936</td>\n",
       "      <td>{'KNN__n_neighbors': 2, 'scale__with_mean': True}</td>\n",
       "    </tr>\n",
       "    <tr>\n",
       "      <th>3</th>\n",
       "      <td>0.928571</td>\n",
       "      <td>0.066936</td>\n",
       "      <td>{'KNN__n_neighbors': 2, 'scale__with_mean': Fa...</td>\n",
       "    </tr>\n",
       "    <tr>\n",
       "      <th>4</th>\n",
       "      <td>0.928571</td>\n",
       "      <td>0.066936</td>\n",
       "      <td>{'KNN__n_neighbors': 3, 'scale__with_mean': True}</td>\n",
       "    </tr>\n",
       "    <tr>\n",
       "      <th>5</th>\n",
       "      <td>0.928571</td>\n",
       "      <td>0.066936</td>\n",
       "      <td>{'KNN__n_neighbors': 3, 'scale__with_mean': Fa...</td>\n",
       "    </tr>\n",
       "    <tr>\n",
       "      <th>6</th>\n",
       "      <td>0.919643</td>\n",
       "      <td>0.062744</td>\n",
       "      <td>{'KNN__n_neighbors': 4, 'scale__with_mean': True}</td>\n",
       "    </tr>\n",
       "    <tr>\n",
       "      <th>7</th>\n",
       "      <td>0.919643</td>\n",
       "      <td>0.062744</td>\n",
       "      <td>{'KNN__n_neighbors': 4, 'scale__with_mean': Fa...</td>\n",
       "    </tr>\n",
       "    <tr>\n",
       "      <th>8</th>\n",
       "      <td>0.937500</td>\n",
       "      <td>0.069746</td>\n",
       "      <td>{'KNN__n_neighbors': 5, 'scale__with_mean': True}</td>\n",
       "    </tr>\n",
       "    <tr>\n",
       "      <th>9</th>\n",
       "      <td>0.937500</td>\n",
       "      <td>0.069746</td>\n",
       "      <td>{'KNN__n_neighbors': 5, 'scale__with_mean': Fa...</td>\n",
       "    </tr>\n",
       "    <tr>\n",
       "      <th>10</th>\n",
       "      <td>0.928571</td>\n",
       "      <td>0.066936</td>\n",
       "      <td>{'KNN__n_neighbors': 6, 'scale__with_mean': True}</td>\n",
       "    </tr>\n",
       "    <tr>\n",
       "      <th>11</th>\n",
       "      <td>0.928571</td>\n",
       "      <td>0.066936</td>\n",
       "      <td>{'KNN__n_neighbors': 6, 'scale__with_mean': Fa...</td>\n",
       "    </tr>\n",
       "    <tr>\n",
       "      <th>12</th>\n",
       "      <td>0.937500</td>\n",
       "      <td>0.058686</td>\n",
       "      <td>{'KNN__n_neighbors': 7, 'scale__with_mean': True}</td>\n",
       "    </tr>\n",
       "    <tr>\n",
       "      <th>13</th>\n",
       "      <td>0.937500</td>\n",
       "      <td>0.058686</td>\n",
       "      <td>{'KNN__n_neighbors': 7, 'scale__with_mean': Fa...</td>\n",
       "    </tr>\n",
       "    <tr>\n",
       "      <th>14</th>\n",
       "      <td>0.946429</td>\n",
       "      <td>0.045225</td>\n",
       "      <td>{'KNN__n_neighbors': 8, 'scale__with_mean': True}</td>\n",
       "    </tr>\n",
       "    <tr>\n",
       "      <th>15</th>\n",
       "      <td>0.946429</td>\n",
       "      <td>0.045225</td>\n",
       "      <td>{'KNN__n_neighbors': 8, 'scale__with_mean': Fa...</td>\n",
       "    </tr>\n",
       "    <tr>\n",
       "      <th>16</th>\n",
       "      <td>0.955357</td>\n",
       "      <td>0.045941</td>\n",
       "      <td>{'KNN__n_neighbors': 9, 'scale__with_mean': True}</td>\n",
       "    </tr>\n",
       "    <tr>\n",
       "      <th>17</th>\n",
       "      <td>0.955357</td>\n",
       "      <td>0.045941</td>\n",
       "      <td>{'KNN__n_neighbors': 9, 'scale__with_mean': Fa...</td>\n",
       "    </tr>\n",
       "  </tbody>\n",
       "</table>\n",
       "</div>"
      ],
      "text/plain": [
       "    mean_test_score  std_test_score  \\\n",
       "0          0.928571        0.078127   \n",
       "1          0.928571        0.078127   \n",
       "2          0.928571        0.066936   \n",
       "3          0.928571        0.066936   \n",
       "4          0.928571        0.066936   \n",
       "5          0.928571        0.066936   \n",
       "6          0.919643        0.062744   \n",
       "7          0.919643        0.062744   \n",
       "8          0.937500        0.069746   \n",
       "9          0.937500        0.069746   \n",
       "10         0.928571        0.066936   \n",
       "11         0.928571        0.066936   \n",
       "12         0.937500        0.058686   \n",
       "13         0.937500        0.058686   \n",
       "14         0.946429        0.045225   \n",
       "15         0.946429        0.045225   \n",
       "16         0.955357        0.045941   \n",
       "17         0.955357        0.045941   \n",
       "\n",
       "                                               params  \n",
       "0   {'KNN__n_neighbors': 1, 'scale__with_mean': True}  \n",
       "1   {'KNN__n_neighbors': 1, 'scale__with_mean': Fa...  \n",
       "2   {'KNN__n_neighbors': 2, 'scale__with_mean': True}  \n",
       "3   {'KNN__n_neighbors': 2, 'scale__with_mean': Fa...  \n",
       "4   {'KNN__n_neighbors': 3, 'scale__with_mean': True}  \n",
       "5   {'KNN__n_neighbors': 3, 'scale__with_mean': Fa...  \n",
       "6   {'KNN__n_neighbors': 4, 'scale__with_mean': True}  \n",
       "7   {'KNN__n_neighbors': 4, 'scale__with_mean': Fa...  \n",
       "8   {'KNN__n_neighbors': 5, 'scale__with_mean': True}  \n",
       "9   {'KNN__n_neighbors': 5, 'scale__with_mean': Fa...  \n",
       "10  {'KNN__n_neighbors': 6, 'scale__with_mean': True}  \n",
       "11  {'KNN__n_neighbors': 6, 'scale__with_mean': Fa...  \n",
       "12  {'KNN__n_neighbors': 7, 'scale__with_mean': True}  \n",
       "13  {'KNN__n_neighbors': 7, 'scale__with_mean': Fa...  \n",
       "14  {'KNN__n_neighbors': 8, 'scale__with_mean': True}  \n",
       "15  {'KNN__n_neighbors': 8, 'scale__with_mean': Fa...  \n",
       "16  {'KNN__n_neighbors': 9, 'scale__with_mean': True}  \n",
       "17  {'KNN__n_neighbors': 9, 'scale__with_mean': Fa...  "
      ]
     },
     "execution_count": 21,
     "metadata": {},
     "output_type": "execute_result"
    }
   ],
   "source": [
    "## 将输出的所有搜索结果进行处理\n",
    "results = pd.DataFrame(gs_KNN_ir.cv_results_)\n",
    "## 输出感兴趣的结果\n",
    "results2 = results[[\"mean_test_score\",\"std_test_score\",\"params\"]]\n",
    "results2"
   ]
  },
  {
   "cell_type": "code",
   "execution_count": 15,
   "metadata": {
    "ExecuteTime": {
     "end_time": "2020-02-13T04:07:19.537580Z",
     "start_time": "2020-02-13T04:07:19.529355Z"
    }
   },
   "outputs": [
    {
     "name": "stdout",
     "output_type": "stream",
     "text": [
      "Acc: 1.0\n"
     ]
    }
   ],
   "source": [
    "## 获取最好的模型\n",
    "Iris_clf = gs_KNN_ir.best_estimator_\n",
    "## 用来预测\n",
    "prey = Iris_clf.predict(test_x)\n",
    "print(\"Acc:\",metrics.accuracy_score(test_y,prey))"
   ]
  },
  {
   "cell_type": "markdown",
   "metadata": {},
   "source": [
    "#### 训练集、验证集、测试集\n",
    "\n",
    "数据分成3份"
   ]
  },
  {
   "cell_type": "markdown",
   "metadata": {},
   "source": [
    "## 分类模型的结果评估\n",
    "\n",
    "**混淆矩阵**\n",
    "\n",
    "**F1得分等**\n",
    "\n",
    "**AUC和ROC曲线**"
   ]
  },
  {
   "cell_type": "code",
   "execution_count": 22,
   "metadata": {
    "ExecuteTime": {
     "end_time": "2020-02-13T04:59:48.005146Z",
     "start_time": "2020-02-13T04:59:47.999392Z"
    }
   },
   "outputs": [
    {
     "data": {
      "text/plain": [
       "0    16\n",
       "2    11\n",
       "1    11\n",
       "dtype: int64"
      ]
     },
     "execution_count": 22,
     "metadata": {},
     "output_type": "execute_result"
    }
   ],
   "source": [
    "pd.value_counts(test_y)"
   ]
  },
  {
   "cell_type": "code",
   "execution_count": 23,
   "metadata": {
    "ExecuteTime": {
     "end_time": "2020-02-13T05:00:02.126205Z",
     "start_time": "2020-02-13T05:00:02.118469Z"
    }
   },
   "outputs": [
    {
     "data": {
      "text/plain": [
       "array([[16,  0,  0],\n",
       "       [ 0, 11,  0],\n",
       "       [ 0,  0, 11]])"
      ]
     },
     "execution_count": 23,
     "metadata": {},
     "output_type": "execute_result"
    }
   ],
   "source": [
    "## 输出混淆矩阵，并且可视化\n",
    "metrics.confusion_matrix(test_y,prey)"
   ]
  },
  {
   "cell_type": "code",
   "execution_count": 24,
   "metadata": {
    "ExecuteTime": {
     "end_time": "2020-02-13T05:00:12.064829Z",
     "start_time": "2020-02-13T05:00:11.795227Z"
    }
   },
   "outputs": [
    {
     "data": {
      "image/png": "[encoded data removed]",
      "text/plain": [
       "<Figure size 432x288 with 1 Axes>"
      ]
     },
     "metadata": {
      "image/png": {
       "height": 263,
       "width": 263
      }
     },
     "output_type": "display_data"
    }
   ],
   "source": [
    "## 混淆矩阵可视化\n",
    "confm = metrics.confusion_matrix(test_y,prey)\n",
    "sns.heatmap(confm.T, square=True, annot=True, fmt='d', \n",
    "            cbar=False,cmap=plt.cm.gray_r)\n",
    "plt.xlabel('True label')\n",
    "plt.ylabel('Predicted label');"
   ]
  },
  {
   "cell_type": "code",
   "execution_count": 25,
   "metadata": {
    "ExecuteTime": {
     "end_time": "2020-02-13T05:00:39.890387Z",
     "start_time": "2020-02-13T05:00:39.882575Z"
    }
   },
   "outputs": [
    {
     "name": "stdout",
     "output_type": "stream",
     "text": [
      "              precision    recall  f1-score   support\n",
      "\n",
      "           0       1.00      1.00      1.00        16\n",
      "           1       1.00      1.00      1.00        11\n",
      "           2       1.00      1.00      1.00        11\n",
      "\n",
      "    accuracy                           1.00        38\n",
      "   macro avg       1.00      1.00      1.00        38\n",
      "weighted avg       1.00      1.00      1.00        38\n",
      "\n"
     ]
    }
   ],
   "source": [
    "print(metrics.classification_report(test_y,prey))"
   ]
  },
  {
   "cell_type": "markdown",
   "metadata": {},
   "source": [
    "### AUC和ROC曲线"
   ]
  },
  {
   "cell_type": "markdown",
   "metadata": {},
   "source": [
    "## 回归分析的评价指标\n",
    "\n",
    "**R-squared**\n",
    "\n",
    "**P值**\n",
    "\n",
    "**条件数**\n",
    "\n",
    "等"
   ]
  },
  {
   "cell_type": "code",
   "execution_count": null,
   "metadata": {
    "collapsed": true
   },
   "outputs": [],
   "source": []
  },
  {
   "cell_type": "code",
   "execution_count": null,
   "metadata": {
    "collapsed": true
   },
   "outputs": [],
   "source": []
  },
  {
   "cell_type": "code",
   "execution_count": null,
   "metadata": {
    "collapsed": true
   },
   "outputs": [],
   "source": []
  },
  {
   "cell_type": "markdown",
   "metadata": {},
   "source": [
    "## 聚类分析效果评价\n",
    "\n"
   ]
  },
  {
   "cell_type": "code",
   "execution_count": null,
   "metadata": {
    "collapsed": true
   },
   "outputs": [],
   "source": []
  },
  {
   "cell_type": "code",
   "execution_count": null,
   "metadata": {
    "collapsed": true
   },
   "outputs": [],
   "source": []
  },
  {
   "cell_type": "code",
   "execution_count": null,
   "metadata": {
    "collapsed": true
   },
   "outputs": [],
   "source": []
  },
  {
   "cell_type": "code",
   "execution_count": null,
   "metadata": {
    "collapsed": true
   },
   "outputs": [],
   "source": []
  }
 ],
 "metadata": {
  "hide_input": false,
  "kernelspec": {
   "display_name": "Python 3",
   "language": "python",
   "name": "python3"
  },
  "language_info": {
   "codemirror_mode": {
    "name": "ipython",
    "version": 3
   },
   "file_extension": ".py",
   "mimetype": "text/x-python",
   "name": "python",
   "nbconvert_exporter": "python",
   "pygments_lexer": "ipython3",
   "version": "3.6.5"
  },
  "nbTranslate": {
   "displayLangs": [
    "*"
   ],
   "hotkey": "alt-t",
   "langInMainMenu": true,
   "sourceLang": "en",
   "targetLang": "fr",
   "useGoogleTranslate": true
  },
  "varInspector": {
   "cols": {
    "lenName": 16,
    "lenType": 16,
    "lenVar": 40
   },
   "kernels_config": {
    "python": {
     "delete_cmd_postfix": "",
     "delete_cmd_prefix": "del ",
     "library": "var_list.py",
     "varRefreshCmd": "print(var_dic_list())"
    },
    "r": {
     "delete_cmd_postfix": ") ",
     "delete_cmd_prefix": "rm(",
     "library": "var_list.r",
     "varRefreshCmd": "cat(var_dic_list()) "
    }
   },
   "types_to_exclude": [
    "module",
    "function",
    "builtin_function_or_method",
    "instance",
    "_Feature"
   ],
   "window_display": false
  }
 },
 "nbformat": 4,
 "nbformat_minor": 2
}
