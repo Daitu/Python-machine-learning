{
 "cells": [
  {
   "cell_type": "markdown",
   "metadata": {},
   "source": [
    "## 第三章:数据的准备和探索\n"
   ]
  },
  {
   "cell_type": "code",
   "execution_count": 1,
   "metadata": {
    "collapsed": true
   },
   "outputs": [],
   "source": [
    "## 加载包\n",
    "import numpy as np\n",
    "import pandas as pd\n",
    "import matplotlib.pyplot as plt\n",
    "import scipy as sp\n",
    "from scipy import stats ## 用于相关假设检验\n",
    "## 图像在jupyter notebook中显示\n",
    "%matplotlib inline\n",
    "## 显示的图片格式（mac中的高清格式），还可以设置为\"bmp\"等格式\n",
    "%config InlineBackend.figure_format = \"retina\"\n",
    "## 输出图显示中文\n",
    "from matplotlib.font_manager import FontProperties\n",
    "fonts = FontProperties(fname = \"/Library/Fonts/华文细黑.ttf\",size=14)\n",
    "## 引入3D坐标系\n",
    "from mpl_toolkits.mplot3d import Axes3D\n",
    "## cm模块提供大量的colormap函数\n",
    "from matplotlib import cm\n",
    "import matplotlib as mpl\n",
    "import seaborn as sns\n",
    "\n",
    "from sklearn.preprocessing import LabelEncoder,OneHotEncoder,normalize,StandardScaler\n",
    "\n",
    "## 忽略提醒\n",
    "import warnings\n",
    "warnings.filterwarnings(\"ignore\")\n"
   ]
  },
  {
   "cell_type": "markdown",
   "metadata": {},
   "source": [
    "### 处理缺失值"
   ]
  },
  {
   "cell_type": "code",
   "execution_count": 2,
   "metadata": {},
   "outputs": [
    {
     "data": {
      "text/html": [
       "<div>\n",
       "<style>\n",
       "    .dataframe thead tr:only-child th {\n",
       "        text-align: right;\n",
       "    }\n",
       "\n",
       "    .dataframe thead th {\n",
       "        text-align: left;\n",
       "    }\n",
       "\n",
       "    .dataframe tbody tr th {\n",
       "        vertical-align: top;\n",
       "    }\n",
       "</style>\n",
       "<table border=\"1\" class=\"dataframe\">\n",
       "  <thead>\n",
       "    <tr style=\"text-align: right;\">\n",
       "      <th></th>\n",
       "      <th>A</th>\n",
       "      <th>B</th>\n",
       "      <th>C</th>\n",
       "      <th>D</th>\n",
       "    </tr>\n",
       "  </thead>\n",
       "  <tbody>\n",
       "    <tr>\n",
       "      <th>0</th>\n",
       "      <td>1.149715</td>\n",
       "      <td>-0.422847</td>\n",
       "      <td>0.051452</td>\n",
       "      <td>-1.150005</td>\n",
       "    </tr>\n",
       "    <tr>\n",
       "      <th>1</th>\n",
       "      <td>NaN</td>\n",
       "      <td>NaN</td>\n",
       "      <td>-0.292627</td>\n",
       "      <td>-0.209613</td>\n",
       "    </tr>\n",
       "    <tr>\n",
       "      <th>2</th>\n",
       "      <td>0.991556</td>\n",
       "      <td>-1.162070</td>\n",
       "      <td>NaN</td>\n",
       "      <td>NaN</td>\n",
       "    </tr>\n",
       "    <tr>\n",
       "      <th>3</th>\n",
       "      <td>0.640201</td>\n",
       "      <td>0.639792</td>\n",
       "      <td>NaN</td>\n",
       "      <td>NaN</td>\n",
       "    </tr>\n",
       "    <tr>\n",
       "      <th>4</th>\n",
       "      <td>1.005546</td>\n",
       "      <td>-0.334640</td>\n",
       "      <td>3.278197</td>\n",
       "      <td>1.020587</td>\n",
       "    </tr>\n",
       "    <tr>\n",
       "      <th>5</th>\n",
       "      <td>2.523790</td>\n",
       "      <td>2.496441</td>\n",
       "      <td>1.146077</td>\n",
       "      <td>0.561178</td>\n",
       "    </tr>\n",
       "  </tbody>\n",
       "</table>\n",
       "</div>"
      ],
      "text/plain": [
       "          A         B         C         D\n",
       "0  1.149715 -0.422847  0.051452 -1.150005\n",
       "1       NaN       NaN -0.292627 -0.209613\n",
       "2  0.991556 -1.162070       NaN       NaN\n",
       "3  0.640201  0.639792       NaN       NaN\n",
       "4  1.005546 -0.334640  3.278197  1.020587\n",
       "5  2.523790  2.496441  1.146077  0.561178"
      ]
     },
     "execution_count": 2,
     "metadata": {},
     "output_type": "execute_result"
    }
   ],
   "source": [
    "## 生成带有缺失值的数据\n",
    "df = pd.DataFrame(np.random.randn(6,4),columns=list(\"ABCD\"))\n",
    "df.iloc[2:4,2:4]  = np.nan\n",
    "df.iloc[1,0:2]  = np.nan\n",
    "df"
   ]
  },
  {
   "cell_type": "code",
   "execution_count": 3,
   "metadata": {},
   "outputs": [
    {
     "data": {
      "text/html": [
       "<div>\n",
       "<style>\n",
       "    .dataframe thead tr:only-child th {\n",
       "        text-align: right;\n",
       "    }\n",
       "\n",
       "    .dataframe thead th {\n",
       "        text-align: left;\n",
       "    }\n",
       "\n",
       "    .dataframe tbody tr th {\n",
       "        vertical-align: top;\n",
       "    }\n",
       "</style>\n",
       "<table border=\"1\" class=\"dataframe\">\n",
       "  <thead>\n",
       "    <tr style=\"text-align: right;\">\n",
       "      <th></th>\n",
       "      <th>A</th>\n",
       "      <th>B</th>\n",
       "      <th>C</th>\n",
       "      <th>D</th>\n",
       "    </tr>\n",
       "  </thead>\n",
       "  <tbody>\n",
       "    <tr>\n",
       "      <th>0</th>\n",
       "      <td>False</td>\n",
       "      <td>False</td>\n",
       "      <td>False</td>\n",
       "      <td>False</td>\n",
       "    </tr>\n",
       "    <tr>\n",
       "      <th>1</th>\n",
       "      <td>True</td>\n",
       "      <td>True</td>\n",
       "      <td>False</td>\n",
       "      <td>False</td>\n",
       "    </tr>\n",
       "    <tr>\n",
       "      <th>2</th>\n",
       "      <td>False</td>\n",
       "      <td>False</td>\n",
       "      <td>True</td>\n",
       "      <td>True</td>\n",
       "    </tr>\n",
       "    <tr>\n",
       "      <th>3</th>\n",
       "      <td>False</td>\n",
       "      <td>False</td>\n",
       "      <td>True</td>\n",
       "      <td>True</td>\n",
       "    </tr>\n",
       "    <tr>\n",
       "      <th>4</th>\n",
       "      <td>False</td>\n",
       "      <td>False</td>\n",
       "      <td>False</td>\n",
       "      <td>False</td>\n",
       "    </tr>\n",
       "    <tr>\n",
       "      <th>5</th>\n",
       "      <td>False</td>\n",
       "      <td>False</td>\n",
       "      <td>False</td>\n",
       "      <td>False</td>\n",
       "    </tr>\n",
       "  </tbody>\n",
       "</table>\n",
       "</div>"
      ],
      "text/plain": [
       "       A      B      C      D\n",
       "0  False  False  False  False\n",
       "1   True   True  False  False\n",
       "2  False  False   True   True\n",
       "3  False  False   True   True\n",
       "4  False  False  False  False\n",
       "5  False  False  False  False"
      ]
     },
     "execution_count": 3,
     "metadata": {},
     "output_type": "execute_result"
    }
   ],
   "source": [
    "## 查看数据是否有缺失值\n",
    "df.isnull()"
   ]
  },
  {
   "cell_type": "code",
   "execution_count": 4,
   "metadata": {},
   "outputs": [
    {
     "data": {
      "text/plain": [
       "0    1.149715\n",
       "1    0.500000\n",
       "2    0.991556\n",
       "3    0.640201\n",
       "4    1.005546\n",
       "5    2.523790\n",
       "Name: A, dtype: float64"
      ]
     },
     "execution_count": 4,
     "metadata": {},
     "output_type": "execute_result"
    }
   ],
   "source": [
    "## 对第A列使用0.5来填补\n",
    "df.fillna({\"A\":0.5},inplace = True)\n",
    "df[\"A\"]"
   ]
  },
  {
   "cell_type": "code",
   "execution_count": 5,
   "metadata": {},
   "outputs": [
    {
     "data": {
      "text/plain": [
       "0   -0.422847\n",
       "1   -1.162070\n",
       "2   -1.162070\n",
       "3    0.639792\n",
       "4   -0.334640\n",
       "5    2.496441\n",
       "Name: B, dtype: float64"
      ]
     },
     "execution_count": 5,
     "metadata": {},
     "output_type": "execute_result"
    }
   ],
   "source": [
    "## 对变量B使用向后插补\n",
    "df[\"B\"].fillna(method = \"bfill\")"
   ]
  },
  {
   "cell_type": "code",
   "execution_count": 6,
   "metadata": {},
   "outputs": [
    {
     "data": {
      "text/plain": [
       "0    0.051452\n",
       "1   -0.292627\n",
       "2   -0.292627\n",
       "3   -0.292627\n",
       "4    3.278197\n",
       "5    1.146077\n",
       "Name: C, dtype: float64"
      ]
     },
     "execution_count": 6,
     "metadata": {},
     "output_type": "execute_result"
    }
   ],
   "source": [
    "## 对变量C使用向前插补\n",
    "df[\"C\"].fillna(method = \"ffill\")"
   ]
  },
  {
   "cell_type": "code",
   "execution_count": 7,
   "metadata": {},
   "outputs": [
    {
     "data": {
      "text/plain": [
       "0   -1.150005\n",
       "1   -0.209613\n",
       "2    0.055537\n",
       "3    0.055537\n",
       "4    1.020587\n",
       "5    0.561178\n",
       "Name: D, dtype: float64"
      ]
     },
     "execution_count": 7,
     "metadata": {},
     "output_type": "execute_result"
    }
   ],
   "source": [
    "## 对变量D使用均值插补\n",
    "df[\"D\"][df[\"D\"].isnull()] = df[\"D\"].mean()\n",
    "df[\"D\"]"
   ]
  },
  {
   "cell_type": "markdown",
   "metadata": {},
   "source": [
    "#### 数据标准化处理和LabelEncoder"
   ]
  },
  {
   "cell_type": "code",
   "execution_count": 33,
   "metadata": {
    "collapsed": true
   },
   "outputs": [],
   "source": [
    "from sklearn.preprocessing import LabelEncoder,StandardScaler"
   ]
  },
  {
   "cell_type": "code",
   "execution_count": 21,
   "metadata": {},
   "outputs": [
    {
     "name": "stdout",
     "output_type": "stream",
     "text": [
      "   Id  SepalLengthCm  SepalWidthCm  PetalLengthCm  PetalWidthCm      Species\n",
      "0   1            5.1           3.5            1.4           0.2  Iris-setosa\n",
      "1   2            4.9           3.0            1.4           0.2  Iris-setosa\n",
      "2   3            4.7           3.2            1.3           0.2  Iris-setosa\n",
      "3   4            4.6           3.1            1.5           0.2  Iris-setosa\n",
      "4   5            5.0           3.6            1.4           0.2  Iris-setosa\n"
     ]
    }
   ],
   "source": [
    "Iris = pd.read_csv(\"/Users/daitu/慕课/Python机器学习入门/data/Iris.csv\")\n",
    "print(Iris.head())"
   ]
  },
  {
   "cell_type": "code",
   "execution_count": 24,
   "metadata": {},
   "outputs": [
    {
     "data": {
      "image/png": "[encoded data removed]",
      "text/plain": [
       "<matplotlib.figure.Figure at 0x108d298d0>"
      ]
     },
     "metadata": {
      "image/png": {
       "height": 265,
       "width": 364
      }
     },
     "output_type": "display_data"
    }
   ],
   "source": [
    "Iris.drop(\"Id\", axis=1).boxplot()\n",
    "plt.title(\"标准化前Boxplot\",FontProperties = fonts)\n",
    "plt.show()"
   ]
  },
  {
   "cell_type": "code",
   "execution_count": 25,
   "metadata": {},
   "outputs": [
    {
     "data": {
      "image/png": "[encoded data removed]",
      "text/plain": [
       "<matplotlib.figure.Figure at 0x102ef1908>"
      ]
     },
     "metadata": {
      "image/png": {
       "height": 265,
       "width": 372
      }
     },
     "output_type": "display_data"
    }
   ],
   "source": [
    "## 对四个特征进行标准化\n",
    "scaler = StandardScaler(with_mean=True,with_std=True)\n",
    "Iris.iloc[:,1:5] = scaler.fit_transform(Iris.iloc[:,1:5])\n",
    "Iris.drop(\"Id\", axis=1).boxplot()\n",
    "plt.title(\"标准化后Boxplot\",FontProperties = fonts)\n",
    "plt.show()"
   ]
  },
  {
   "cell_type": "code",
   "execution_count": 31,
   "metadata": {},
   "outputs": [
    {
     "data": {
      "text/plain": [
       "array([0, 0, 0, 0, 0, 0, 0, 0, 0, 0, 0, 0, 0, 0, 0, 0, 0, 0, 0, 0, 0, 0,\n",
       "       0, 0, 0, 0, 0, 0, 0, 0, 0, 0, 0, 0, 0, 0, 0, 0, 0, 0, 0, 0, 0, 0,\n",
       "       0, 0, 0, 0, 0, 0, 1, 1, 1, 1, 1, 1, 1, 1, 1, 1, 1, 1, 1, 1, 1, 1,\n",
       "       1, 1, 1, 1, 1, 1, 1, 1, 1, 1, 1, 1, 1, 1, 1, 1, 1, 1, 1, 1, 1, 1,\n",
       "       1, 1, 1, 1, 1, 1, 1, 1, 1, 1, 1, 1, 2, 2, 2, 2, 2, 2, 2, 2, 2, 2,\n",
       "       2, 2, 2, 2, 2, 2, 2, 2, 2, 2, 2, 2, 2, 2, 2, 2, 2, 2, 2, 2, 2, 2,\n",
       "       2, 2, 2, 2, 2, 2, 2, 2, 2, 2, 2, 2, 2, 2, 2, 2, 2, 2])"
      ]
     },
     "execution_count": 31,
     "metadata": {},
     "output_type": "execute_result"
    }
   ],
   "source": [
    "## LabelEncoder将类别数据从0到n－1开始编码\n",
    "le = LabelEncoder()\n",
    "Species = le.fit_transform(Iris.Species)\n",
    "Species"
   ]
  },
  {
   "cell_type": "code",
   "execution_count": 34,
   "metadata": {},
   "outputs": [],
   "source": [
    "## 生成数据的非线性特征\n",
    "from sklearn.preprocessing import PolynomialFeatures"
   ]
  },
  {
   "cell_type": "code",
   "execution_count": 37,
   "metadata": {},
   "outputs": [
    {
     "data": {
      "text/plain": [
       "array([[0, 1],\n",
       "       [2, 3],\n",
       "       [4, 5],\n",
       "       [6, 7]])"
      ]
     },
     "execution_count": 37,
     "metadata": {},
     "output_type": "execute_result"
    }
   ],
   "source": [
    "X = np.arange(8).reshape(4,2)\n",
    "X"
   ]
  },
  {
   "cell_type": "code",
   "execution_count": 41,
   "metadata": {},
   "outputs": [
    {
     "data": {
      "text/plain": [
       "array([[ 0.,  1.,  0.,  0.,  1.],\n",
       "       [ 2.,  3.,  4.,  6.,  9.],\n",
       "       [ 4.,  5., 16., 20., 25.],\n",
       "       [ 6.,  7., 36., 42., 49.]])"
      ]
     },
     "execution_count": 41,
     "metadata": {},
     "output_type": "execute_result"
    }
   ],
   "source": [
    "## degree指特征的最多有几个变量的乘积，interaction_only是否只有交叉项，include_bias表示是否有常数项\n",
    "pf = PolynomialFeatures(degree=2, interaction_only=False, include_bias=False)\n",
    "pf.fit_transform(X)"
   ]
  },
  {
   "cell_type": "markdown",
   "metadata": {},
   "source": [
    "(X1,X2)-->(X1,X2,X1^2,X1\\*X2,X2^2)"
   ]
  },
  {
   "cell_type": "markdown",
   "metadata": {},
   "source": [
    "### 数据假设检验\n",
    "\n",
    "**数据是否是正态分布**\n",
    "\n",
    "**数据均值比较**\n",
    "\n",
    "**但因素方差分析**"
   ]
  },
  {
   "cell_type": "markdown",
   "metadata": {},
   "source": [
    "P值\n",
    "\n",
    "书上的定义：\n",
    "\n",
    "定义：在一个假设检验问题中，拒绝原假设H0的最小显著性水平称为检验的P值。\n",
    "\n",
    "从定义可知p值表示对原假设的怀疑程度，p值越小，表明原假设越可疑，从而越应拒绝原假设。\n",
    "\n",
    "引入p值的好处：由检验的p值与人们心中的显著性水平αα进行比较可以很容易的得出检验的结论：\n",
    "\n",
    "如果p<＝αp<＝α，则在显著性水平下拒绝H0；\n",
    "\n",
    "如果p>αp>α，则在显著性水平下接受H0\n",
    "\n",
    "我使用时的理解：\n",
    "\n",
    "P值为我们拒绝原假设时犯错误的可能性。（如果p值与选定显著性水平（0.05或0.01）相比更小，则我们拒绝原假设时犯错误的可能性很小，所以我们可以拒绝我们的原假设，接受备择假设。否则我们不能拒绝原假设。）"
   ]
  },
  {
   "cell_type": "markdown",
   "metadata": {},
   "source": [
    "#### 正态性检验\n",
    "生成正态概率图并进行假设检验，以检查观测值是否服从正态分布。\n",
    "\n",
    "**对于正态性检验:**\n",
    "\n",
    "原假设为H0：数据服从正态分布；\n",
    "\n",
    "备择假设H1：数据不服从正态分布。\n",
    "\n",
    "**K-S检验**\n",
    "Kolmogorov-Smirnov检验\n",
    "\n",
    "它是检验单一样本是否来自某一特定分布的方法。比如检验一组数据是否为正态分布。\n",
    "\n",
    "(它的检验方法是以样本数据的累计频数分布与特定理论分布比较，若两者间的差距很小，则推论该样本取自某特定分布族。)\n",
    "\n",
    "即对于假设检验问题：\n",
    "\n",
    "H0:样本所来自的总体分布服从某特定分布（正态分布）\n",
    "\n",
    "H1:样本所来自的总体分布不服从某特定分布（正态分布）\n",
    "\n",
    "使用方式\n",
    "\n",
    "stats.kstest(rvs, cdf, args=(), N=20, alternative='two-sided', mode='approx')"
   ]
  },
  {
   "cell_type": "code",
   "execution_count": 8,
   "metadata": {
    "collapsed": true
   },
   "outputs": [],
   "source": [
    "from scipy import stats"
   ]
  },
  {
   "cell_type": "code",
   "execution_count": 9,
   "metadata": {},
   "outputs": [
    {
     "name": "stdout",
     "output_type": "stream",
     "text": [
      "(100,)\n"
     ]
    },
    {
     "data": {
      "image/png": "[encoded data removed]",
      "text/plain": [
       "<matplotlib.figure.Figure at 0x1a0c65f9b0>"
      ]
     },
     "metadata": {
      "image/png": {
       "height": 277,
       "width": 384
      }
     },
     "output_type": "display_data"
    },
    {
     "data": {
      "text/plain": [
       "KstestResult(statistic=0.050770070239366819, pvalue=0.95880488614957782)"
      ]
     },
     "execution_count": 9,
     "metadata": {},
     "output_type": "execute_result"
    }
   ],
   "source": [
    "## 检验数据是否是正态分布\n",
    "np.random.seed(19)\n",
    "x = stats.norm.rvs(size=100)  ## Random variates of given type.\n",
    "print(x.shape)\n",
    "## 查看数据的直方图\n",
    "plt.figure()\n",
    "plt.hist(x,bins=20,color=\"red\")\n",
    "plt.xlabel(\"x\")\n",
    "plt.ylabel(\"frequenry\")\n",
    "plt.title(\"hist plot\")\n",
    "plt.show()\n",
    "\n",
    "## 对数据进行正态性检验\n",
    "stats.kstest(x, 'norm')\n"
   ]
  },
  {
   "cell_type": "markdown",
   "metadata": {},
   "source": [
    "#### 独立两样本t检验\n",
    "stats.ttest_ind(a, b, axis=0, equal_var=True, nan_policy='propagate')\n",
    "\n",
    "Calculates the T-test for the means of two independent samples of scores.\n",
    "\n",
    "\n",
    "对两个独立的数据进行t检验，比较两组样本的均值是否相等，本检验假定两样本具有相同的方差。\n",
    "\n",
    "原假设：两独立样本具有相同的均值。\n",
    "\n",
    "备择假设：两独立样本的均值不同。"
   ]
  },
  {
   "cell_type": "code",
   "execution_count": 10,
   "metadata": {},
   "outputs": [
    {
     "data": {
      "image/png": "[encoded data removed]",
      "text/plain": [
       "<matplotlib.figure.Figure at 0x1a0c65f0b8>"
      ]
     },
     "metadata": {
      "image/png": {
       "height": 277,
       "width": 384
      }
     },
     "output_type": "display_data"
    },
    {
     "data": {
      "text/plain": [
       "Ttest_indResult(statistic=0.30534858100573847, pvalue=0.76016435217931533)"
      ]
     },
     "execution_count": 10,
     "metadata": {},
     "output_type": "execute_result"
    }
   ],
   "source": [
    "## 例1:\n",
    "np.random.seed(125)\n",
    "x1 = stats.norm.rvs(loc=5,scale=10,size=500)\n",
    "x2 = stats.norm.rvs(loc=5,scale=10,size=500)\n",
    "## 查看数据的直方图\n",
    "plt.figure()\n",
    "plt.hist(x1,bins=20,color=\"red\",alpha = 0.5)\n",
    "plt.hist(x2,bins=20,color=\"blue\",alpha = 0.5)\n",
    "plt.xlabel(\"x\")\n",
    "plt.ylabel(\"frequenry\")\n",
    "plt.title(\"hist plot\")\n",
    "plt.show()\n",
    "\n",
    "## 独立两样本t检验\n",
    "stats.ttest_ind(x1,x2)"
   ]
  },
  {
   "cell_type": "markdown",
   "metadata": {},
   "source": [
    "#### 单因素方差分析\n",
    "单因素方差分析 （one-way ANOVA），用于完全随机设计的多个样本均数间的比较，其统计推断是推断各样本所代表的各总体均数是否相等。\n",
    "\n",
    "H0:各个因素的均值相等μ0=μ1=...=μn\n",
    "H1:各个因素的均值不完全相等\n",
    "\n",
    "stats.f_oneway()\n",
    "\n",
    "Performs a 1-way ANOVA.\n",
    "\n",
    "单因素方差分析测试两个或多个组具有相同总体平均值的零假设。 该测试应用于来自两个或更多个组的样品，可能具有不同的样本数目。"
   ]
  },
  {
   "cell_type": "code",
   "execution_count": 11,
   "metadata": {},
   "outputs": [
    {
     "data": {
      "text/html": [
       "<div>\n",
       "<style>\n",
       "    .dataframe thead tr:only-child th {\n",
       "        text-align: right;\n",
       "    }\n",
       "\n",
       "    .dataframe thead th {\n",
       "        text-align: left;\n",
       "    }\n",
       "\n",
       "    .dataframe tbody tr th {\n",
       "        vertical-align: top;\n",
       "    }\n",
       "</style>\n",
       "<table border=\"1\" class=\"dataframe\">\n",
       "  <thead>\n",
       "    <tr style=\"text-align: right;\">\n",
       "      <th></th>\n",
       "      <th>sepal_length</th>\n",
       "      <th>sepal_width</th>\n",
       "      <th>petal_length</th>\n",
       "      <th>petal_width</th>\n",
       "      <th>species</th>\n",
       "    </tr>\n",
       "  </thead>\n",
       "  <tbody>\n",
       "    <tr>\n",
       "      <th>0</th>\n",
       "      <td>5.1</td>\n",
       "      <td>3.5</td>\n",
       "      <td>1.4</td>\n",
       "      <td>0.2</td>\n",
       "      <td>setosa</td>\n",
       "    </tr>\n",
       "    <tr>\n",
       "      <th>1</th>\n",
       "      <td>4.9</td>\n",
       "      <td>3.0</td>\n",
       "      <td>1.4</td>\n",
       "      <td>0.2</td>\n",
       "      <td>setosa</td>\n",
       "    </tr>\n",
       "    <tr>\n",
       "      <th>2</th>\n",
       "      <td>4.7</td>\n",
       "      <td>3.2</td>\n",
       "      <td>1.3</td>\n",
       "      <td>0.2</td>\n",
       "      <td>setosa</td>\n",
       "    </tr>\n",
       "    <tr>\n",
       "      <th>3</th>\n",
       "      <td>4.6</td>\n",
       "      <td>3.1</td>\n",
       "      <td>1.5</td>\n",
       "      <td>0.2</td>\n",
       "      <td>setosa</td>\n",
       "    </tr>\n",
       "    <tr>\n",
       "      <th>4</th>\n",
       "      <td>5.0</td>\n",
       "      <td>3.6</td>\n",
       "      <td>1.4</td>\n",
       "      <td>0.2</td>\n",
       "      <td>setosa</td>\n",
       "    </tr>\n",
       "  </tbody>\n",
       "</table>\n",
       "</div>"
      ],
      "text/plain": [
       "   sepal_length  sepal_width  petal_length  petal_width species\n",
       "0           5.1          3.5           1.4          0.2  setosa\n",
       "1           4.9          3.0           1.4          0.2  setosa\n",
       "2           4.7          3.2           1.3          0.2  setosa\n",
       "3           4.6          3.1           1.5          0.2  setosa\n",
       "4           5.0          3.6           1.4          0.2  setosa"
      ]
     },
     "execution_count": 11,
     "metadata": {},
     "output_type": "execute_result"
    }
   ],
   "source": [
    "import seaborn as sns\n",
    "sns.set_style(\"white\")\n",
    "Iris = sns.load_dataset(\"iris\")\n",
    "Iris.head()"
   ]
  },
  {
   "cell_type": "code",
   "execution_count": 12,
   "metadata": {},
   "outputs": [
    {
     "data": {
      "image/png": "[encoded data removed]",
      "text/plain": [
       "<matplotlib.figure.Figure at 0x1a0c67fc50>"
      ]
     },
     "metadata": {
      "image/png": {
       "height": 382,
       "width": 491
      }
     },
     "output_type": "display_data"
    }
   ],
   "source": [
    "## 盒形图 查看数据\n",
    "#  Seaborn中的boxplot，可以画箱线图，可以看出不同种类的分布情况\n",
    "## 中间线为中位数，理论上是不能对比均值的，但是可以做为参考。\n",
    "\n",
    "plt.figure(figsize=(8,6))\n",
    "sns.boxplot(x=\"species\", y=\"sepal_width\", data=Iris)\n",
    "plt.title(\"Boxplot\")\n",
    "plt.show()"
   ]
  },
  {
   "cell_type": "code",
   "execution_count": 13,
   "metadata": {},
   "outputs": [
    {
     "name": "stdout",
     "output_type": "stream",
     "text": [
      "LeveneResult(statistic=0.59021156558533194, pvalue=0.55551789847390753)\n",
      "pvalue > 0.05 ,说明各组方差相等\n",
      "----------------------------------\n",
      "F_onewayResult(statistic=49.160040089612075, pvalue=4.4920171333091149e-17)\n",
      "pvalue < 0.05 ,说明各组均值不全相等\n"
     ]
    }
   ],
   "source": [
    "## 单因素方差分析\n",
    "setosa = Iris.sepal_width[Iris.species == \"setosa\"]\n",
    "versicolor = Iris.sepal_width[Iris.species == \"versicolor\"]\n",
    "virginica = Iris.sepal_width[Iris.species == \"virginica\"]\n",
    "## 方差齐性检验\n",
    "print(stats.levene(setosa,versicolor,virginica))\n",
    "print(\"pvalue > 0.05 ,说明各组方差相等\")\n",
    "print(\"----------------------------------\")\n",
    "print(stats.f_oneway(setosa,versicolor,virginica))\n",
    "print(\"pvalue < 0.05 ,说明各组均值不全相等\")\n"
   ]
  },
  {
   "cell_type": "code",
   "execution_count": 14,
   "metadata": {},
   "outputs": [
    {
     "name": "stdout",
     "output_type": "stream",
     "text": [
      "  Multiple Comparison of Means - Tukey HSD,FWER=0.05 \n",
      "=====================================================\n",
      "  group1     group2   meandiff  lower   upper  reject\n",
      "-----------------------------------------------------\n",
      "  setosa   versicolor  -0.658  -0.8189 -0.4971  True \n",
      "  setosa   virginica   -0.454  -0.6149 -0.2931  True \n",
      "versicolor virginica   0.204    0.0431  0.3649  True \n",
      "-----------------------------------------------------\n"
     ]
    },
    {
     "data": {
      "text/html": [
       "<table class=\"simpletable\">\n",
       "<caption>Multiple Comparison of Means - Tukey HSD,FWER=0.05</caption>\n",
       "<tr>\n",
       "    <th>group1</th>     <th>group2</th>   <th>meandiff</th>  <th>lower</th>   <th>upper</th>  <th>reject</th>\n",
       "</tr>\n",
       "<tr>\n",
       "    <td>setosa</td>   <td>versicolor</td>  <td>-0.658</td>  <td>-0.8189</td> <td>-0.4971</td>  <td>True</td> \n",
       "</tr>\n",
       "<tr>\n",
       "    <td>setosa</td>    <td>virginica</td>  <td>-0.454</td>  <td>-0.6149</td> <td>-0.2931</td>  <td>True</td> \n",
       "</tr>\n",
       "<tr>\n",
       "  <td>versicolor</td>  <td>virginica</td>   <td>0.204</td>  <td>0.0431</td>  <td>0.3649</td>   <td>True</td> \n",
       "</tr>\n",
       "</table>"
      ],
      "text/plain": [
       "<class 'statsmodels.iolib.table.SimpleTable'>"
      ]
     },
     "execution_count": 14,
     "metadata": {},
     "output_type": "execute_result"
    },
    {
     "data": {
      "image/png": "[encoded data removed]",
      "text/plain": [
       "<matplotlib.figure.Figure at 0x1070ae550>"
      ]
     },
     "metadata": {
      "image/png": {
       "height": 368,
       "width": 618
      }
     },
     "output_type": "display_data"
    }
   ],
   "source": [
    "## 进行多重比较\n",
    "from statsmodels.stats.multicomp import pairwise_tukeyhsd\n",
    "\n",
    "tukey = pairwise_tukeyhsd(endog=Iris.sepal_width,     # 数据\n",
    "                          groups=Iris.species,   # 分组\n",
    "                          alpha=0.05)          # 显著性水平\n",
    "print(tukey)\n",
    "tukey.plot_simultaneous()    # 绘画出每组的置信区间\n",
    "\n",
    "tukey.summary()              # 查看summary"
   ]
  },
  {
   "cell_type": "markdown",
   "metadata": {},
   "source": [
    "#### 属性相关系数的显著性检验"
   ]
  },
  {
   "cell_type": "code",
   "execution_count": 15,
   "metadata": {},
   "outputs": [
    {
     "name": "stdout",
     "output_type": "stream",
     "text": [
      "相关系数:  0.871753775887\n",
      "---------------------\n",
      "相关系数显著性检验p-value:  1.03866741945e-47\n"
     ]
    }
   ],
   "source": [
    "r,pval = stats.pearsonr(Iris[\"sepal_length\"],Iris[\"petal_length\"])\n",
    "print(\"相关系数: \",r)\n",
    "print(\"---------------------\")\n",
    "print(\"相关系数显著性检验p-value: \",pval)"
   ]
  },
  {
   "cell_type": "markdown",
   "metadata": {},
   "source": [
    "### 数据间的关系\n",
    "\n",
    "相关分析\n",
    "\n",
    "各种距离\n",
    "\n",
    "比较Iris三种花平均属性之间的距离远近。"
   ]
  },
  {
   "cell_type": "code",
   "execution_count": 16,
   "metadata": {},
   "outputs": [
    {
     "data": {
      "text/html": [
       "<div>\n",
       "<style>\n",
       "    .dataframe thead tr:only-child th {\n",
       "        text-align: right;\n",
       "    }\n",
       "\n",
       "    .dataframe thead th {\n",
       "        text-align: left;\n",
       "    }\n",
       "\n",
       "    .dataframe tbody tr th {\n",
       "        vertical-align: top;\n",
       "    }\n",
       "</style>\n",
       "<table border=\"1\" class=\"dataframe\">\n",
       "  <thead>\n",
       "    <tr style=\"text-align: right;\">\n",
       "      <th></th>\n",
       "      <th>sepal_length</th>\n",
       "      <th>sepal_width</th>\n",
       "      <th>petal_length</th>\n",
       "      <th>petal_width</th>\n",
       "      <th>species</th>\n",
       "    </tr>\n",
       "  </thead>\n",
       "  <tbody>\n",
       "    <tr>\n",
       "      <th>0</th>\n",
       "      <td>5.1</td>\n",
       "      <td>3.5</td>\n",
       "      <td>1.4</td>\n",
       "      <td>0.2</td>\n",
       "      <td>setosa</td>\n",
       "    </tr>\n",
       "    <tr>\n",
       "      <th>1</th>\n",
       "      <td>4.9</td>\n",
       "      <td>3.0</td>\n",
       "      <td>1.4</td>\n",
       "      <td>0.2</td>\n",
       "      <td>setosa</td>\n",
       "    </tr>\n",
       "    <tr>\n",
       "      <th>2</th>\n",
       "      <td>4.7</td>\n",
       "      <td>3.2</td>\n",
       "      <td>1.3</td>\n",
       "      <td>0.2</td>\n",
       "      <td>setosa</td>\n",
       "    </tr>\n",
       "    <tr>\n",
       "      <th>3</th>\n",
       "      <td>4.6</td>\n",
       "      <td>3.1</td>\n",
       "      <td>1.5</td>\n",
       "      <td>0.2</td>\n",
       "      <td>setosa</td>\n",
       "    </tr>\n",
       "    <tr>\n",
       "      <th>4</th>\n",
       "      <td>5.0</td>\n",
       "      <td>3.6</td>\n",
       "      <td>1.4</td>\n",
       "      <td>0.2</td>\n",
       "      <td>setosa</td>\n",
       "    </tr>\n",
       "  </tbody>\n",
       "</table>\n",
       "</div>"
      ],
      "text/plain": [
       "   sepal_length  sepal_width  petal_length  petal_width species\n",
       "0           5.1          3.5           1.4          0.2  setosa\n",
       "1           4.9          3.0           1.4          0.2  setosa\n",
       "2           4.7          3.2           1.3          0.2  setosa\n",
       "3           4.6          3.1           1.5          0.2  setosa\n",
       "4           5.0          3.6           1.4          0.2  setosa"
      ]
     },
     "execution_count": 16,
     "metadata": {},
     "output_type": "execute_result"
    }
   ],
   "source": [
    "## 计算iris数据的皮尔逊相关性\n",
    "Iris.head()"
   ]
  },
  {
   "cell_type": "code",
   "execution_count": 25,
   "metadata": {},
   "outputs": [
    {
     "data": {
      "text/html": [
       "<div>\n",
       "<style>\n",
       "    .dataframe thead tr:only-child th {\n",
       "        text-align: right;\n",
       "    }\n",
       "\n",
       "    .dataframe thead th {\n",
       "        text-align: left;\n",
       "    }\n",
       "\n",
       "    .dataframe tbody tr th {\n",
       "        vertical-align: top;\n",
       "    }\n",
       "</style>\n",
       "<table border=\"1\" class=\"dataframe\">\n",
       "  <thead>\n",
       "    <tr style=\"text-align: right;\">\n",
       "      <th></th>\n",
       "      <th>sepal_length</th>\n",
       "      <th>sepal_width</th>\n",
       "      <th>petal_length</th>\n",
       "      <th>petal_width</th>\n",
       "    </tr>\n",
       "    <tr>\n",
       "      <th>species</th>\n",
       "      <th></th>\n",
       "      <th></th>\n",
       "      <th></th>\n",
       "      <th></th>\n",
       "    </tr>\n",
       "  </thead>\n",
       "  <tbody>\n",
       "    <tr>\n",
       "      <th>setosa</th>\n",
       "      <td>5.006</td>\n",
       "      <td>3.428</td>\n",
       "      <td>1.462</td>\n",
       "      <td>0.246</td>\n",
       "    </tr>\n",
       "    <tr>\n",
       "      <th>versicolor</th>\n",
       "      <td>5.936</td>\n",
       "      <td>2.770</td>\n",
       "      <td>4.260</td>\n",
       "      <td>1.326</td>\n",
       "    </tr>\n",
       "    <tr>\n",
       "      <th>virginica</th>\n",
       "      <td>6.588</td>\n",
       "      <td>2.974</td>\n",
       "      <td>5.552</td>\n",
       "      <td>2.026</td>\n",
       "    </tr>\n",
       "  </tbody>\n",
       "</table>\n",
       "</div>"
      ],
      "text/plain": [
       "            sepal_length  sepal_width  petal_length  petal_width\n",
       "species                                                         \n",
       "setosa             5.006        3.428         1.462        0.246\n",
       "versicolor         5.936        2.770         4.260        1.326\n",
       "virginica          6.588        2.974         5.552        2.026"
      ]
     },
     "execution_count": 25,
     "metadata": {},
     "output_type": "execute_result"
    }
   ],
   "source": [
    "Irisnew = Iris.groupby(by=\"species\").mean()\n",
    "Irisnew"
   ]
  },
  {
   "cell_type": "code",
   "execution_count": 18,
   "metadata": {
    "collapsed": true
   },
   "outputs": [],
   "source": [
    "from scipy.spatial import distance"
   ]
  },
  {
   "cell_type": "markdown",
   "metadata": {},
   "source": [
    "##### 欧式距离（欧几里德距离）\n",
    "\n",
    "$x = (x_1,x_2,...,x_n)$;$y = (y_1,y_2,...,y_n)$\n",
    "$$dist = \\sqrt{\\sum_{i=1}^n(x_i-y_i)^2}$$"
   ]
  },
  {
   "cell_type": "code",
   "execution_count": 19,
   "metadata": {},
   "outputs": [
    {
     "data": {
      "text/plain": [
       "array([[ 0.        ,  3.20828116,  4.75450734],\n",
       "       [ 3.20828116,  0.        ,  1.62048882],\n",
       "       [ 4.75450734,  1.62048882,  0.        ]])"
      ]
     },
     "execution_count": 19,
     "metadata": {},
     "output_type": "execute_result"
    }
   ],
   "source": [
    "## 计算三种花的欧式距离\n",
    "dist = distance.cdist(Irisnew.values,Irisnew.values,\"euclidean\")\n",
    "dist"
   ]
  },
  {
   "cell_type": "markdown",
   "metadata": {},
   "source": [
    "#### 曼哈顿距离（城市块距离）\n",
    "\n",
    "$x = (x_1,x_2,...,x_n)$;$y = (y_1,y_2,...,y_n)$\n",
    "$$dist = \\sum_{i=1}^n|x_i-y_i|$$"
   ]
  },
  {
   "cell_type": "code",
   "execution_count": 20,
   "metadata": {},
   "outputs": [
    {
     "data": {
      "text/plain": [
       "array([[ 0.   ,  5.466,  7.906],\n",
       "       [ 5.466,  0.   ,  2.848],\n",
       "       [ 7.906,  2.848,  0.   ]])"
      ]
     },
     "execution_count": 20,
     "metadata": {},
     "output_type": "execute_result"
    }
   ],
   "source": [
    "## 计算三种花的曼哈顿距离\n",
    "dist = distance.cdist(Irisnew.values,Irisnew.values,\"cityblock\")\n",
    "dist"
   ]
  },
  {
   "cell_type": "markdown",
   "metadata": {},
   "source": [
    "#### 切比雪夫距离\n",
    "\n",
    "$x = (x_1,x_2,...,x_n)$;$y = (y_1,y_2,...,y_n)$\n",
    "$$dist = \\max_i {|x_i-v_i|}$$\n",
    "\n"
   ]
  },
  {
   "cell_type": "code",
   "execution_count": 21,
   "metadata": {},
   "outputs": [
    {
     "data": {
      "text/plain": [
       "array([[ 0.   ,  2.798,  4.09 ],\n",
       "       [ 2.798,  0.   ,  1.292],\n",
       "       [ 4.09 ,  1.292,  0.   ]])"
      ]
     },
     "execution_count": 21,
     "metadata": {},
     "output_type": "execute_result"
    }
   ],
   "source": [
    "## 计算三种花的切比雪夫距离\n",
    "dist = distance.cdist(Irisnew.values,Irisnew.values,\"chebyshev\")\n",
    "dist"
   ]
  },
  {
   "cell_type": "markdown",
   "metadata": {},
   "source": [
    "#### 余弦距离\n",
    "\n",
    "$x = (x_1,x_2,...,x_n)$;$y = (y_1,y_2,...,y_n)$\n",
    "$$dist = 1-\\frac{x \\cdot y}\n",
    "            {||x||_2 ||y||_2} \n",
    "$$\n",
    "\n",
    "#### 余弦相似性\n",
    "$$ similarity= \\frac{\\Sigma_ix_iy_i}\n",
    "            {\\sqrt{\\Sigma_ix_i^2}\\sqrt{\\Sigma_iy_i^2}} \n",
    "$$"
   ]
  },
  {
   "cell_type": "code",
   "execution_count": 22,
   "metadata": {},
   "outputs": [
    {
     "data": {
      "text/plain": [
       "array([[ 0.    ,  0.0755,  0.1119],\n",
       "       [ 0.0755, -0.    ,  0.0043],\n",
       "       [ 0.1119,  0.0043, -0.    ]])"
      ]
     },
     "execution_count": 22,
     "metadata": {},
     "output_type": "execute_result"
    }
   ],
   "source": [
    "## 计算三种花的余弦距离\n",
    "dist = distance.cdist(Irisnew.values,Irisnew.values,\"cosine\")\n",
    "dist\n",
    "np.round(dist,4)"
   ]
  },
  {
   "cell_type": "markdown",
   "metadata": {},
   "source": [
    "#### 相关系数"
   ]
  },
  {
   "cell_type": "code",
   "execution_count": 23,
   "metadata": {},
   "outputs": [
    {
     "data": {
      "text/plain": [
       "array([[-0.    ,  0.2376,  0.3834],\n",
       "       [ 0.2376,  0.    ,  0.0205],\n",
       "       [ 0.3834,  0.0205,  0.    ]])"
      ]
     },
     "execution_count": 23,
     "metadata": {},
     "output_type": "execute_result"
    }
   ],
   "source": [
    "## 计算相关系数距离\n",
    "dist = distance.cdist(Irisnew.values,Irisnew.values,\"correlation\")\n",
    "dist\n",
    "np.round(dist,4)"
   ]
  },
  {
   "cell_type": "markdown",
   "metadata": {},
   "source": [
    "#### 马氏距离\n",
    "\n",
    "$x = (x_1,x_2,...,x_n)$;$y = (y_1,y_2,...,y_n)$\n",
    "$$dist = \\sqrt{(x-y)^T\\Sigma^{-1}(x-y)}$$\n",
    "$$dist = \\sqrt{ (u-v) V^{-1} (u-v)^T } $$"
   ]
  },
  {
   "cell_type": "code",
   "execution_count": 24,
   "metadata": {},
   "outputs": [
    {
     "data": {
      "text/plain": [
       "array([[ 0.    ,  5.9733,  9.3979],\n",
       "       [ 5.9733,  0.    ,  3.8199],\n",
       "       [ 9.3979,  3.8199,  0.    ]])"
      ]
     },
     "execution_count": 24,
     "metadata": {},
     "output_type": "execute_result"
    }
   ],
   "source": [
    "## 计算三种花的马氏距离\n",
    "dist = distance.cdist(Irisnew.values,Irisnew.values,\"mahalanobis\")\n",
    "dist\n",
    "np.round(dist,4)"
   ]
  },
  {
   "cell_type": "code",
   "execution_count": null,
   "metadata": {
    "collapsed": true
   },
   "outputs": [],
   "source": []
  },
  {
   "cell_type": "code",
   "execution_count": null,
   "metadata": {
    "collapsed": true
   },
   "outputs": [],
   "source": []
  },
  {
   "cell_type": "code",
   "execution_count": null,
   "metadata": {
    "collapsed": true
   },
   "outputs": [],
   "source": []
  },
  {
   "cell_type": "code",
   "execution_count": null,
   "metadata": {
    "collapsed": true
   },
   "outputs": [],
   "source": []
  }
 ],
 "metadata": {
  "kernelspec": {
   "display_name": "Python 3",
   "language": "python",
   "name": "python3"
  },
  "language_info": {
   "codemirror_mode": {
    "name": "ipython",
    "version": 3
   },
   "file_extension": ".py",
   "mimetype": "text/x-python",
   "name": "python",
   "nbconvert_exporter": "python",
   "pygments_lexer": "ipython3",
   "version": "3.6.5"
  }
 },
 "nbformat": 4,
 "nbformat_minor": 2
}
