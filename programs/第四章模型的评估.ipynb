{
 "cells": [
  {
   "cell_type": "code",
   "execution_count": 1,
   "metadata": {
    "collapsed": true
   },
   "outputs": [],
   "source": [
    "## 加载包\n",
    "import numpy as np\n",
    "import pandas as pd\n",
    "import matplotlib.pyplot as plt\n",
    "import seaborn as sns\n",
    "## 图像在jupyter notebook中显示\n",
    "%matplotlib inline\n",
    "## 显示的图片格式（mac中的高清格式），还可以设置为\"bmp\"等格式\n",
    "%config InlineBackend.figure_format = \"retina\"\n",
    "## 输出图显示中文\n",
    "from matplotlib.font_manager import FontProperties\n",
    "fonts = FontProperties(fname = \"/Library/Fonts/华文细黑.ttf\",size=14)\n",
    "\n",
    "from sklearn import metrics\n",
    "from sklearn.model_selection import train_test_split\n",
    "from sklearn.datasets import load_iris\n",
    "## 忽略提醒\n",
    "import warnings\n",
    "warnings.filterwarnings(\"ignore\")"
   ]
  },
  {
   "cell_type": "code",
   "execution_count": null,
   "metadata": {
    "collapsed": true
   },
   "outputs": [],
   "source": []
  },
  {
   "cell_type": "markdown",
   "metadata": {},
   "source": [
    "## 模型训练技巧\n",
    "\n",
    "**K折交叉验证**\n",
    "\n",
    "**参数网格搜索**\n",
    "\n",
    "**训练集、验证集、测试集**\n",
    "\n"
   ]
  },
  {
   "cell_type": "code",
   "execution_count": 2,
   "metadata": {
    "scrolled": true
   },
   "outputs": [
    {
     "data": {
      "text/plain": [
       "(150, 4)"
      ]
     },
     "execution_count": 2,
     "metadata": {},
     "output_type": "execute_result"
    }
   ],
   "source": [
    "## 读取鸢尾花数据集\n",
    "Iris = load_iris()\n",
    "Iris.data.shape"
   ]
  },
  {
   "cell_type": "code",
   "execution_count": 3,
   "metadata": {},
   "outputs": [
    {
     "data": {
      "text/plain": [
       "array([0, 0, 0, 0, 0, 0, 0, 0, 0, 0, 0, 0, 0, 0, 0, 0, 0, 0, 0, 0, 0, 0,\n",
       "       0, 0, 0, 0, 0, 0, 0, 0, 0, 0, 0, 0, 0, 0, 0, 0, 0, 0, 0, 0, 0, 0,\n",
       "       0, 0, 0, 0, 0, 0, 1, 1, 1, 1, 1, 1, 1, 1, 1, 1, 1, 1, 1, 1, 1, 1,\n",
       "       1, 1, 1, 1, 1, 1, 1, 1, 1, 1, 1, 1, 1, 1, 1, 1, 1, 1, 1, 1, 1, 1,\n",
       "       1, 1, 1, 1, 1, 1, 1, 1, 1, 1, 1, 1, 2, 2, 2, 2, 2, 2, 2, 2, 2, 2,\n",
       "       2, 2, 2, 2, 2, 2, 2, 2, 2, 2, 2, 2, 2, 2, 2, 2, 2, 2, 2, 2, 2, 2,\n",
       "       2, 2, 2, 2, 2, 2, 2, 2, 2, 2, 2, 2, 2, 2, 2, 2, 2, 2])"
      ]
     },
     "execution_count": 3,
     "metadata": {},
     "output_type": "execute_result"
    }
   ],
   "source": [
    "Iris.target"
   ]
  },
  {
   "cell_type": "markdown",
   "metadata": {
    "collapsed": true
   },
   "source": [
    "####  k-折交叉验证\n",
    "1:k-fold\n",
    "\n",
    "将样例划分为K份，若K=样例数，即为留一交叉验证，K-1份作为训练。\n",
    "\n",
    "2:Stratified k-fold  分层交叉验证\n",
    "\n",
    "StratifiedKFold()这个函数较常用，比KFold的优势在于将k折数据按照百分比划分数据集，每个类别百分比在训练集和测试集中都是一样，这样能保证不会有某个类别的数据在训练集中而测试集中没有这种情况，同样不会在训练集中没有全在测试集中，这样会导致结果糟糕透顶。"
   ]
  },
  {
   "cell_type": "code",
   "execution_count": 4,
   "metadata": {},
   "outputs": [
    {
     "name": "stdout",
     "output_type": "stream",
     "text": [
      "Fold: 1 Acc: 1.0\n",
      "Fold: 2 Acc: 1.0\n",
      "Fold: 3 Acc: 1.0\n",
      "Fold: 4 Acc: 1.0\n",
      "Fold: 5 Acc: 0.9333\n",
      "Fold: 6 Acc: 0.9333\n",
      "Fold: 7 Acc: 1.0\n",
      "Fold: 8 Acc: 1.0\n",
      "Fold: 9 Acc: 0.8\n",
      "Fold: 10 Acc: 1.0\n",
      "平均Acc: 0.9666666666666668\n"
     ]
    }
   ],
   "source": [
    "## 1:使用k－fold对Iris数据集分类\n",
    "from sklearn.model_selection import KFold\n",
    "from sklearn.discriminant_analysis import LinearDiscriminantAnalysis\n",
    "Irkf = KFold(n_splits=10,random_state=2)\n",
    "## 使用 线性判别分析算法进行数据分类\n",
    "LDA_clf = LinearDiscriminantAnalysis(n_components=2)\n",
    "scores = []\n",
    "for ii,(train_index, test_index) in enumerate(Irkf.split(Iris.data)):\n",
    "    ## 训练模型\n",
    "    LDA_clf.fit(Iris.data[train_index],Iris.target[train_index])\n",
    "    ## 测试模型效果\n",
    "    prey = LDA_clf.predict(Iris.data[test_index])\n",
    "    acc = metrics.accuracy_score(Iris.target[test_index],prey)\n",
    "    print(\"Fold:\",ii+1,\"Acc:\",np.round(acc,4))\n",
    "    scores.append(acc)\n",
    "## 计算准确率的平均值\n",
    "print(\"平均Acc:\",np.mean(scores))"
   ]
  },
  {
   "cell_type": "code",
   "execution_count": 5,
   "metadata": {},
   "outputs": [
    {
     "name": "stdout",
     "output_type": "stream",
     "text": [
      "10折交叉验证的Acc:\n",
      " [1.         1.         1.         1.         0.93333333 1.\n",
      " 0.86666667 1.         1.         1.        ]\n",
      "平均Acc: 0.9800000000000001\n"
     ]
    }
   ],
   "source": [
    "## 同时sklearn还提供了cross_val_score函数直接计算平均得分\n",
    "from sklearn.model_selection import cross_val_score\n",
    "scores = cross_val_score(estimator=LDA_clf,cv=10,\n",
    "                         X=Iris.data,y = Iris.target,\n",
    "                         n_jobs = 4)\n",
    "print(\"10折交叉验证的Acc:\\n\",scores)\n",
    "print(\"平均Acc:\",np.mean(scores))"
   ]
  },
  {
   "cell_type": "code",
   "execution_count": 6,
   "metadata": {
    "scrolled": true
   },
   "outputs": [
    {
     "name": "stdout",
     "output_type": "stream",
     "text": [
      "每个测试集的类别比例:\n",
      " 2    17\n",
      "1    17\n",
      "0    17\n",
      "dtype: int64\n",
      "每个测试集的类别比例:\n",
      " 2    17\n",
      "1    17\n",
      "0    17\n",
      "dtype: int64\n",
      "每个测试集的类别比例:\n",
      " 2    16\n",
      "1    16\n",
      "0    16\n",
      "dtype: int64\n",
      "平均Acc: 0.9803921568627452\n"
     ]
    }
   ],
   "source": [
    "## 2:Stratified k-fold 分层交叉验证\n",
    "from sklearn.model_selection import StratifiedKFold\n",
    "Skf_ir = StratifiedKFold(n_splits=3,random_state=2)\n",
    "scores = []\n",
    "## 使用Skf_ir.split()时需要同时提供X和Y\n",
    "for ii,(train_index, test_index) in enumerate(Skf_ir.split(Iris.data,Iris.target)):\n",
    "    ## 训练模型\n",
    "    LDA_clf.fit(Iris.data[train_index],Iris.target[train_index])\n",
    "    ## 测试模型效果\n",
    "    prey = LDA_clf.predict(Iris.data[test_index])\n",
    "    acc = metrics.accuracy_score(Iris.target[test_index],prey)\n",
    "    print(\"每个测试集的类别比例:\\n\",pd.value_counts(Iris.target[test_index]))\n",
    "    scores.append(acc)\n",
    "## 计算准确率的平均值\n",
    "print(\"平均Acc:\",np.mean(scores))"
   ]
  },
  {
   "cell_type": "markdown",
   "metadata": {},
   "source": [
    "### 参数网格搜索"
   ]
  },
  {
   "cell_type": "code",
   "execution_count": 8,
   "metadata": {
    "collapsed": true
   },
   "outputs": [],
   "source": [
    "## 切分数据集\n",
    "train_x,test_x,train_y,test_y = train_test_split(Iris.data,Iris.target,\n",
    "                                                 test_size = 0.25,random_state = 2)"
   ]
  },
  {
   "cell_type": "code",
   "execution_count": 9,
   "metadata": {},
   "outputs": [
    {
     "data": {
      "text/plain": [
       "GridSearchCV(cv=10, error_score='raise',\n",
       "       estimator=Pipeline(memory=None,\n",
       "     steps=[('scale', StandardScaler(copy=True, with_mean=True, with_std=True)), ('KNN', KNeighborsClassifier(algorithm='auto', leaf_size=30, metric='minkowski',\n",
       "           metric_params=None, n_jobs=1, n_neighbors=5, p=2,\n",
       "           weights='uniform'))]),\n",
       "       fit_params=None, iid=True, n_jobs=4,\n",
       "       param_grid=[{'scale__with_mean': [True, False], 'KNN__n_neighbors': array([1, 2, 3, 4, 5, 6, 7, 8, 9])}],\n",
       "       pre_dispatch='2*n_jobs', refit=True, return_train_score='warn',\n",
       "       scoring=None, verbose=0)"
      ]
     },
     "execution_count": 9,
     "metadata": {},
     "output_type": "execute_result"
    }
   ],
   "source": [
    "from sklearn.pipeline import Pipeline\n",
    "from sklearn.preprocessing import StandardScaler\n",
    "from sklearn.model_selection import GridSearchCV\n",
    "from sklearn.neighbors import KNeighborsClassifier\n",
    "## 定义模型流程\n",
    "pipe_KNN = Pipeline([(\"scale\",StandardScaler()),\n",
    "                    (\"KNN\",KNeighborsClassifier())])\n",
    "## 定义需要搜索的参数\n",
    "n_neighbors = np.arange(1,10)\n",
    "para_grid = [{\"scale__with_mean\":[True,False],\n",
    "#               \"scale__with_std\":[True,False],\n",
    "              \"KNN__n_neighbors\" : n_neighbors}]\n",
    "\n",
    "## 应用到数据上\n",
    "gs_KNN_ir = GridSearchCV(estimator=pipe_KNN,param_grid=para_grid,\n",
    "                         cv=10,n_jobs=4)\n",
    "gs_KNN_ir.fit(train_x,train_y)"
   ]
  },
  {
   "cell_type": "code",
   "execution_count": 10,
   "metadata": {},
   "outputs": [
    {
     "data": {
      "text/plain": [
       "{'KNN__n_neighbors': 9, 'scale__with_mean': True}"
      ]
     },
     "execution_count": 10,
     "metadata": {},
     "output_type": "execute_result"
    }
   ],
   "source": [
    "## 输出最优的参数\n",
    "gs_KNN_ir.best_params_"
   ]
  },
  {
   "cell_type": "code",
   "execution_count": 11,
   "metadata": {},
   "outputs": [
    {
     "data": {
      "text/plain": [
       "[mean: 0.92857, std: 0.07788, params: {'KNN__n_neighbors': 1, 'scale__with_mean': True},\n",
       " mean: 0.92857, std: 0.07788, params: {'KNN__n_neighbors': 1, 'scale__with_mean': False},\n",
       " mean: 0.92857, std: 0.06643, params: {'KNN__n_neighbors': 2, 'scale__with_mean': True},\n",
       " mean: 0.92857, std: 0.06643, params: {'KNN__n_neighbors': 2, 'scale__with_mean': False},\n",
       " mean: 0.92857, std: 0.06643, params: {'KNN__n_neighbors': 3, 'scale__with_mean': True},\n",
       " mean: 0.92857, std: 0.06643, params: {'KNN__n_neighbors': 3, 'scale__with_mean': False},\n",
       " mean: 0.91964, std: 0.06196, params: {'KNN__n_neighbors': 4, 'scale__with_mean': True},\n",
       " mean: 0.91964, std: 0.06196, params: {'KNN__n_neighbors': 4, 'scale__with_mean': False},\n",
       " mean: 0.92857, std: 0.06643, params: {'KNN__n_neighbors': 5, 'scale__with_mean': True},\n",
       " mean: 0.92857, std: 0.06643, params: {'KNN__n_neighbors': 5, 'scale__with_mean': False},\n",
       " mean: 0.92857, std: 0.06643, params: {'KNN__n_neighbors': 6, 'scale__with_mean': True},\n",
       " mean: 0.92857, std: 0.06643, params: {'KNN__n_neighbors': 6, 'scale__with_mean': False},\n",
       " mean: 0.93750, std: 0.05889, params: {'KNN__n_neighbors': 7, 'scale__with_mean': True},\n",
       " mean: 0.93750, std: 0.05889, params: {'KNN__n_neighbors': 7, 'scale__with_mean': False},\n",
       " mean: 0.94643, std: 0.04552, params: {'KNN__n_neighbors': 8, 'scale__with_mean': True},\n",
       " mean: 0.94643, std: 0.04552, params: {'KNN__n_neighbors': 8, 'scale__with_mean': False},\n",
       " mean: 0.95536, std: 0.04652, params: {'KNN__n_neighbors': 9, 'scale__with_mean': True},\n",
       " mean: 0.95536, std: 0.04652, params: {'KNN__n_neighbors': 9, 'scale__with_mean': False}]"
      ]
     },
     "execution_count": 11,
     "metadata": {},
     "output_type": "execute_result"
    }
   ],
   "source": [
    "## 输出所有的搜索结果\n",
    "gs_KNN_ir.grid_scores_"
   ]
  },
  {
   "cell_type": "code",
   "execution_count": 12,
   "metadata": {},
   "outputs": [
    {
     "name": "stdout",
     "output_type": "stream",
     "text": [
      "Acc: 1.0\n"
     ]
    }
   ],
   "source": [
    "## 获取最好的模型\n",
    "Iris_clf = gs_KNN_ir.best_estimator_\n",
    "## 用来预测\n",
    "prey = Iris_clf.predict(test_x)\n",
    "print(\"Acc:\",metrics.accuracy_score(test_y,prey))"
   ]
  },
  {
   "cell_type": "markdown",
   "metadata": {},
   "source": [
    "#### 训练集、验证集、测试集\n",
    "\n",
    "数据分成3份"
   ]
  },
  {
   "cell_type": "markdown",
   "metadata": {},
   "source": [
    "## 分类模型的结果评估\n",
    "\n",
    "**混淆矩阵**\n",
    "\n",
    "**F1得分等**\n",
    "\n",
    "**AUC和ROC曲线**"
   ]
  },
  {
   "cell_type": "code",
   "execution_count": 13,
   "metadata": {},
   "outputs": [
    {
     "data": {
      "text/plain": [
       "0    16\n",
       "2    11\n",
       "1    11\n",
       "dtype: int64"
      ]
     },
     "execution_count": 13,
     "metadata": {},
     "output_type": "execute_result"
    }
   ],
   "source": [
    "pd.value_counts(test_y)"
   ]
  },
  {
   "cell_type": "code",
   "execution_count": 14,
   "metadata": {},
   "outputs": [
    {
     "data": {
      "text/plain": [
       "array([[16,  0,  0],\n",
       "       [ 0, 11,  0],\n",
       "       [ 0,  0, 11]])"
      ]
     },
     "execution_count": 14,
     "metadata": {},
     "output_type": "execute_result"
    }
   ],
   "source": [
    "## 输出混淆矩阵，并且可视化\n",
    "metrics.confusion_matrix(test_y,prey)"
   ]
  },
  {
   "cell_type": "code",
   "execution_count": 15,
   "metadata": {},
   "outputs": [
    {
     "data": {
      "image/png": "[encoded data removed]",
      "text/plain": [
       "<matplotlib.figure.Figure at 0x1155f5048>"
      ]
     },
     "metadata": {
      "image/png": {
       "height": 263,
       "width": 263
      }
     },
     "output_type": "display_data"
    }
   ],
   "source": [
    "## 混淆矩阵可视化\n",
    "confm = metrics.confusion_matrix(test_y,prey)\n",
    "sns.heatmap(confm.T, square=True, annot=True, fmt='d', \n",
    "            cbar=False,cmap=plt.cm.gray_r)\n",
    "plt.xlabel('True label')\n",
    "plt.ylabel('Predicted label');"
   ]
  },
  {
   "cell_type": "code",
   "execution_count": 17,
   "metadata": {},
   "outputs": [
    {
     "name": "stdout",
     "output_type": "stream",
     "text": [
      "             precision    recall  f1-score   support\n",
      "\n",
      "          0       1.00      1.00      1.00        16\n",
      "          1       1.00      1.00      1.00        11\n",
      "          2       1.00      1.00      1.00        11\n",
      "\n",
      "avg / total       1.00      1.00      1.00        38\n",
      "\n"
     ]
    }
   ],
   "source": [
    "print(metrics.classification_report(test_y,prey))"
   ]
  },
  {
   "cell_type": "markdown",
   "metadata": {},
   "source": [
    "### AUC和ROC曲线"
   ]
  },
  {
   "cell_type": "markdown",
   "metadata": {},
   "source": [
    "## 回归分析的评价指标\n",
    "\n",
    "**R-squared**\n",
    "\n",
    "**P值**\n",
    "\n",
    "**条件数**\n",
    "\n",
    "等"
   ]
  },
  {
   "cell_type": "code",
   "execution_count": null,
   "metadata": {
    "collapsed": true
   },
   "outputs": [],
   "source": []
  },
  {
   "cell_type": "code",
   "execution_count": null,
   "metadata": {
    "collapsed": true
   },
   "outputs": [],
   "source": []
  },
  {
   "cell_type": "code",
   "execution_count": null,
   "metadata": {
    "collapsed": true
   },
   "outputs": [],
   "source": []
  },
  {
   "cell_type": "markdown",
   "metadata": {},
   "source": [
    "## 聚类分析效果评价\n",
    "\n"
   ]
  },
  {
   "cell_type": "code",
   "execution_count": null,
   "metadata": {
    "collapsed": true
   },
   "outputs": [],
   "source": []
  },
  {
   "cell_type": "code",
   "execution_count": null,
   "metadata": {
    "collapsed": true
   },
   "outputs": [],
   "source": []
  },
  {
   "cell_type": "code",
   "execution_count": null,
   "metadata": {
    "collapsed": true
   },
   "outputs": [],
   "source": []
  },
  {
   "cell_type": "code",
   "execution_count": null,
   "metadata": {
    "collapsed": true
   },
   "outputs": [],
   "source": []
  }
 ],
 "metadata": {
  "kernelspec": {
   "display_name": "Python 3",
   "language": "python",
   "name": "python3"
  },
  "language_info": {
   "codemirror_mode": {
    "name": "ipython",
    "version": 3
   },
   "file_extension": ".py",
   "mimetype": "text/x-python",
   "name": "python",
   "nbconvert_exporter": "python",
   "pygments_lexer": "ipython3",
   "version": "3.6.5"
  }
 },
 "nbformat": 4,
 "nbformat_minor": 2
}
